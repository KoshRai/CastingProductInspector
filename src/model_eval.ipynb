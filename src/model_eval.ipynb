{
 "cells": [
  {
   "cell_type": "code",
   "execution_count": 1,
   "id": "6bf9d667",
   "metadata": {
    "_cell_guid": "b1076dfc-b9ad-4769-8c92-a6c4dae69d19",
    "_uuid": "8f2839f25d086af736a60e9eeb907d3b93b6e0e5",
    "execution": {
     "iopub.execute_input": "2023-10-07T04:57:26.826580Z",
     "iopub.status.busy": "2023-10-07T04:57:26.826027Z",
     "iopub.status.idle": "2023-10-07T04:57:32.568923Z",
     "shell.execute_reply": "2023-10-07T04:57:32.567408Z"
    },
    "papermill": {
     "duration": 5.74971,
     "end_time": "2023-10-07T04:57:32.572252",
     "exception": false,
     "start_time": "2023-10-07T04:57:26.822542",
     "status": "completed"
    },
    "tags": []
   },
   "outputs": [
    {
     "name": "stderr",
     "output_type": "stream",
     "text": [
      "/opt/conda/lib/python3.10/site-packages/scipy/__init__.py:146: UserWarning: A NumPy version >=1.16.5 and <1.23.0 is required for this version of SciPy (detected version 1.23.5\n",
      "  warnings.warn(f\"A NumPy version >={np_minversion} and <{np_maxversion}\"\n"
     ]
    },
    {
     "name": "stdout",
     "output_type": "stream",
     "text": [
      "cuda\n"
     ]
    }
   ],
   "source": [
    "import torch\n",
    "from torch.utils.data import Dataset, DataLoader\n",
    "import torch.nn as nn\n",
    "import torch.nn.functional as F\n",
    "import cv2 as cv\n",
    "import numpy as np\n",
    "import matplotlib.pyplot as plt\n",
    "import os\n",
    "import torchinfo\n",
    "from sklearn.metrics import accuracy_score, confusion_matrix, ConfusionMatrixDisplay\n",
    "\n",
    "device = 'cuda' if torch.cuda.is_available() else 'cpu'\n",
    "print(device)"
   ]
  },
  {
   "cell_type": "code",
   "execution_count": 2,
   "id": "cc56be44",
   "metadata": {
    "execution": {
     "iopub.execute_input": "2023-10-07T04:57:32.580102Z",
     "iopub.status.busy": "2023-10-07T04:57:32.579080Z",
     "iopub.status.idle": "2023-10-07T04:57:32.583217Z",
     "shell.execute_reply": "2023-10-07T04:57:32.582694Z"
    },
    "papermill": {
     "duration": 0.008739,
     "end_time": "2023-10-07T04:57:32.584792",
     "exception": false,
     "start_time": "2023-10-07T04:57:32.576053",
     "status": "completed"
    },
    "tags": []
   },
   "outputs": [],
   "source": [
    "# train_def_path = \"/kaggle/input/real-life-industrial-dataset-of-casting-product/casting_data/casting_data/train/def_front\"\n",
    "# train_ok_path = \"/kaggle/input/real-life-industrial-dataset-of-casting-product/casting_data/casting_data/train/ok_front\"\n",
    "val_def_path = \"/kaggle/input/real-life-industrial-dataset-of-casting-product/casting_data/casting_data/test/def_front\"\n",
    "val_ok_path = \"/kaggle/input/real-life-industrial-dataset-of-casting-product/casting_data/casting_data/test/ok_front\""
   ]
  },
  {
   "cell_type": "code",
   "execution_count": 3,
   "id": "a56fe410",
   "metadata": {
    "execution": {
     "iopub.execute_input": "2023-10-07T04:57:32.590326Z",
     "iopub.status.busy": "2023-10-07T04:57:32.589564Z",
     "iopub.status.idle": "2023-10-07T04:57:32.756907Z",
     "shell.execute_reply": "2023-10-07T04:57:32.756052Z"
    },
    "papermill": {
     "duration": 0.172175,
     "end_time": "2023-10-07T04:57:32.758984",
     "exception": false,
     "start_time": "2023-10-07T04:57:32.586809",
     "status": "completed"
    },
    "tags": []
   },
   "outputs": [],
   "source": [
    "class Data(Dataset):\n",
    "    def __init__(self, def_path, ok_path):\n",
    "        self.def_path = def_path\n",
    "        self.ok_path = ok_path\n",
    "        self.def_imgs = np.array([os.path.join(self.def_path, i) for i in os.listdir(self.def_path)])\n",
    "        self.ok_imgs = np.array([os.path.join(self.ok_path, i) for i in os.listdir(self.ok_path)])\n",
    "        self.all_imgs = np.concatenate((self.def_imgs, self.ok_imgs))\n",
    "        np.random.shuffle(self.all_imgs)\n",
    "    def __len__(self):\n",
    "        return len(self.all_imgs)\n",
    "        \n",
    "    def __getitem__(self, idx):\n",
    "        img_path = self.all_imgs[idx]\n",
    "        img = torch.tensor(cv.cvtColor(cv.imread(img_path), cv.COLOR_BGR2RGB)).type(torch.FloatTensor) #HWC\n",
    "        img = torch.permute(img, (2,0,1)) #CHW\n",
    "        if img_path in self.def_imgs: y = [0,1] #[0th index repr ok]\n",
    "        elif img_path in self.ok_imgs: y = [1,0]\n",
    "        return img, torch.tensor(y).type(torch.FloatTensor)\n",
    "\n",
    "# train_data = Data(train_def_path, train_ok_path)\n",
    "val_data = Data(val_def_path, val_ok_path)"
   ]
  },
  {
   "cell_type": "code",
   "execution_count": 4,
   "id": "4f44d1bd",
   "metadata": {
    "execution": {
     "iopub.execute_input": "2023-10-07T04:57:32.764564Z",
     "iopub.status.busy": "2023-10-07T04:57:32.763786Z",
     "iopub.status.idle": "2023-10-07T04:57:44.509586Z",
     "shell.execute_reply": "2023-10-07T04:57:44.508612Z"
    },
    "papermill": {
     "duration": 11.750886,
     "end_time": "2023-10-07T04:57:44.511895",
     "exception": false,
     "start_time": "2023-10-07T04:57:32.761009",
     "status": "completed"
    },
    "tags": []
   },
   "outputs": [
    {
     "name": "stdout",
     "output_type": "stream",
     "text": [
      "==========================================================================================\n",
      "Layer (type:depth-idx)                   Output Shape              Param #\n",
      "==========================================================================================\n",
      "Classifier                               [32, 2]                   --\n",
      "├─Sequential: 1-1                        [32, 2]                   --\n",
      "│    └─Conv2d: 2-1                       [32, 32, 298, 298]        896\n",
      "│    └─ReLU: 2-2                         [32, 32, 298, 298]        --\n",
      "│    └─Conv2d: 2-3                       [32, 64, 296, 296]        18,496\n",
      "│    └─ReLU: 2-4                         [32, 64, 296, 296]        --\n",
      "│    └─MaxPool2d: 2-5                    [32, 64, 148, 148]        --\n",
      "│    └─Conv2d: 2-6                       [32, 128, 146, 146]       73,856\n",
      "│    └─ReLU: 2-7                         [32, 128, 146, 146]       --\n",
      "│    └─Conv2d: 2-8                       [32, 256, 144, 144]       295,168\n",
      "│    └─ReLU: 2-9                         [32, 256, 144, 144]       --\n",
      "│    └─MaxPool2d: 2-10                   [32, 256, 72, 72]         --\n",
      "│    └─Conv2d: 2-11                      [32, 512, 70, 70]         1,180,160\n",
      "│    └─ReLU: 2-12                        [32, 512, 70, 70]         --\n",
      "│    └─Conv2d: 2-13                      [32, 1024, 68, 68]        4,719,616\n",
      "│    └─Dropout2d: 2-14                   [32, 1024, 68, 68]        --\n",
      "│    └─ReLU: 2-15                        [32, 1024, 68, 68]        --\n",
      "│    └─MaxPool2d: 2-16                   [32, 1024, 34, 34]        --\n",
      "│    └─BatchNorm2d: 2-17                 [32, 1024, 34, 34]        2,048\n",
      "│    └─Conv2d: 2-18                      [32, 128, 34, 34]         131,200\n",
      "│    └─Flatten: 2-19                     [32, 147968]              --\n",
      "│    └─Dropout: 2-20                     [32, 147968]              --\n",
      "│    └─Linear: 2-21                      [32, 256]                 37,880,064\n",
      "│    └─Sigmoid: 2-22                     [32, 256]                 --\n",
      "│    └─Linear: 2-23                      [32, 128]                 32,896\n",
      "│    └─Sigmoid: 2-24                     [32, 128]                 --\n",
      "│    └─Linear: 2-25                      [32, 64]                  8,256\n",
      "│    └─Sigmoid: 2-26                     [32, 64]                  --\n",
      "│    └─Linear: 2-27                      [32, 2]                   130\n",
      "│    └─Softmax: 2-28                     [32, 2]                   --\n",
      "==========================================================================================\n",
      "Total params: 44,342,786\n",
      "Trainable params: 44,342,786\n",
      "Non-trainable params: 0\n",
      "Total mult-adds (T): 1.19\n",
      "==========================================================================================\n",
      "Input size (MB): 34.56\n",
      "Forward/backward pass size (MB): 6415.86\n",
      "Params size (MB): 177.37\n",
      "Estimated Total Size (MB): 6627.79\n",
      "==========================================================================================\n"
     ]
    }
   ],
   "source": [
    "class Classifier(nn.Module):\n",
    "    def __init__(self):\n",
    "        super().__init__()\n",
    "        self.net = nn.Sequential(\n",
    "            nn.Conv2d(in_channels=3, out_channels=32, kernel_size=3),\n",
    "            nn.ReLU(),\n",
    "            nn.Conv2d(in_channels=32, out_channels=64, kernel_size=3),\n",
    "            nn.ReLU(),\n",
    "            nn.MaxPool2d(kernel_size=2),\n",
    "            nn.Conv2d(in_channels=64, out_channels=128, kernel_size=3),\n",
    "            nn.ReLU(),\n",
    "            nn.Conv2d(in_channels=128, out_channels=256, kernel_size=3),\n",
    "            nn.ReLU(),\n",
    "            nn.MaxPool2d(kernel_size=2),\n",
    "            nn.Conv2d(in_channels=256, out_channels=512, kernel_size=3),\n",
    "            nn.ReLU(),\n",
    "            nn.Conv2d(in_channels=512, out_channels=1024, kernel_size=3),\n",
    "            nn.Dropout2d(p=0.2),\n",
    "            nn.ReLU(),\n",
    "            nn.MaxPool2d(kernel_size=2),\n",
    "            nn.BatchNorm2d(num_features = 1024),\n",
    "            nn.Conv2d(in_channels=1024, out_channels=128, kernel_size=1),\n",
    "            nn.Flatten(),\n",
    "            nn.Dropout(p=0.5),\n",
    "            nn.LazyLinear(out_features=256),\n",
    "            nn.Sigmoid(),\n",
    "            nn.Linear(in_features=256, out_features=128),\n",
    "            nn.Sigmoid(),\n",
    "            nn.Linear(in_features = 128, out_features=64),\n",
    "            nn.Sigmoid(),\n",
    "            nn.Linear(in_features=64, out_features=2),\n",
    "            nn.Softmax(dim=1)\n",
    "        )\n",
    "    def forward(self, x):\n",
    "        return self.net(x)\n",
    "\n",
    "model = torch.load('/kaggle/input/defect-insp-model/model.pt')\n",
    "print(torchinfo.summary(model, (32, 3, 300, 300)))"
   ]
  },
  {
   "cell_type": "code",
   "execution_count": 5,
   "id": "9e08b8fa",
   "metadata": {
    "execution": {
     "iopub.execute_input": "2023-10-07T04:57:44.518668Z",
     "iopub.status.busy": "2023-10-07T04:57:44.517753Z",
     "iopub.status.idle": "2023-10-07T04:57:57.151683Z",
     "shell.execute_reply": "2023-10-07T04:57:57.150498Z"
    },
    "papermill": {
     "duration": 12.639607,
     "end_time": "2023-10-07T04:57:57.153968",
     "exception": false,
     "start_time": "2023-10-07T04:57:44.514361",
     "status": "completed"
    },
    "tags": []
   },
   "outputs": [],
   "source": [
    "BATCH_SIZE = 1\n",
    "val_loader = DataLoader(val_data, batch_size=BATCH_SIZE, shuffle=True, num_workers=2)\n",
    "\n",
    "model = model.to(device)   \n",
    "y_true = []\n",
    "y_pred = []\n",
    "model.eval()\n",
    "for batch, (x,y) in enumerate(val_loader):\n",
    "    x,y = x.to(device), y.to(device)\n",
    "    x = x/255\n",
    "    pred = model(x)\n",
    "    pred = torch.argmax(pred).item()\n",
    "    y = torch.argmax(y).item()\n",
    "    y_true.append(y)\n",
    "    y_pred.append(pred)\n",
    "y_true, y_pred = np.array(y_true), np.array(y_pred)\n",
    "acc_score = accuracy_score(y_true, y_pred)\n",
    "conf_mat = confusion_matrix(y_true, y_pred)"
   ]
  },
  {
   "cell_type": "code",
   "execution_count": 6,
   "id": "1ead5069",
   "metadata": {
    "execution": {
     "iopub.execute_input": "2023-10-07T04:57:57.160208Z",
     "iopub.status.busy": "2023-10-07T04:57:57.159930Z",
     "iopub.status.idle": "2023-10-07T04:57:57.165467Z",
     "shell.execute_reply": "2023-10-07T04:57:57.164540Z"
    },
    "papermill": {
     "duration": 0.011205,
     "end_time": "2023-10-07T04:57:57.167572",
     "exception": false,
     "start_time": "2023-10-07T04:57:57.156367",
     "status": "completed"
    },
    "tags": []
   },
   "outputs": [
    {
     "name": "stdout",
     "output_type": "stream",
     "text": [
      "Model accuracy on test set: 0.9888111888111888\n",
      "Confusion Matrix: \n",
      "[[262   0]\n",
      " [  8 445]]\n"
     ]
    }
   ],
   "source": [
    "print(f'Model accuracy on test set: {acc_score}')\n",
    "print(f'Confusion Matrix: \\n{conf_mat}')"
   ]
  },
  {
   "cell_type": "code",
   "execution_count": 7,
   "id": "b34ebf64",
   "metadata": {
    "execution": {
     "iopub.execute_input": "2023-10-07T04:57:57.174833Z",
     "iopub.status.busy": "2023-10-07T04:57:57.174037Z",
     "iopub.status.idle": "2023-10-07T04:57:57.466481Z",
     "shell.execute_reply": "2023-10-07T04:57:57.465583Z"
    },
    "papermill": {
     "duration": 0.297855,
     "end_time": "2023-10-07T04:57:57.468434",
     "exception": false,
     "start_time": "2023-10-07T04:57:57.170579",
     "status": "completed"
    },
    "tags": []
   },
   "outputs": [
    {
     "data": {
      "image/png": "[encoded data removed]",
      "text/plain": [
       "<Figure size 640x480 with 2 Axes>"
      ]
     },
     "metadata": {},
     "output_type": "display_data"
    }
   ],
   "source": [
    "ConfusionMatrixDisplay.from_predictions(y_true, y_pred)\n",
    "plt.show()"
   ]
  }
 ],
 "metadata": {
  "kernelspec": {
   "display_name": "Python 3",
   "language": "python",
   "name": "python3"
  },
  "language_info": {
   "codemirror_mode": {
    "name": "ipython",
    "version": 3
   },
   "file_extension": ".py",
   "mimetype": "text/x-python",
   "name": "python",
   "nbconvert_exporter": "python",
   "pygments_lexer": "ipython3",
   "version": "3.10.12"
  },
  "papermill": {
   "default_parameters": {},
   "duration": 36.995478,
   "end_time": "2023-10-07T04:58:00.075929",
   "environment_variables": {},
   "exception": null,
   "input_path": "__notebook__.ipynb",
   "output_path": "__notebook__.ipynb",
   "parameters": {},
   "start_time": "2023-10-07T04:57:23.080451",
   "version": "2.4.0"
  }
 },
 "nbformat": 4,
 "nbformat_minor": 5
}
